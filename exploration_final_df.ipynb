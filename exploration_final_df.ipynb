{
 "cells": [
  {
   "cell_type": "code",
   "execution_count": 1,
   "metadata": {},
   "outputs": [],
   "source": [
    "import pandas as pd\n",
    "import numpy as np\n",
    "import datetime\n",
    "import warnings\n",
    "import re\n",
    "import math\n",
    "\n",
    "warnings.filterwarnings('ignore')\n",
    "warnings.filterwarnings(\"ignore\", message=\"numpy.ufunc size changed\")\n",
    "\n",
    "import matplotlib.pyplot as plt\n",
    "import seaborn as sns\n",
    "sns.set_style(\"whitegrid\")\n",
    "\n",
    "%matplotlib inline\n",
    "\n",
    "pd.set_option('display.max_columns', None)"
   ]
  },
  {
   "cell_type": "code",
   "execution_count": 2,
   "metadata": {},
   "outputs": [],
   "source": [
    "df = pd.read_csv('final_dataset_chronic_illlness_cleaned.csv')"
   ]
  },
  {
   "cell_type": "code",
   "execution_count": 3,
   "metadata": {},
   "outputs": [
    {
     "data": {
      "text/html": [
       "<div>\n",
       "<style scoped>\n",
       "    .dataframe tbody tr th:only-of-type {\n",
       "        vertical-align: middle;\n",
       "    }\n",
       "\n",
       "    .dataframe tbody tr th {\n",
       "        vertical-align: top;\n",
       "    }\n",
       "\n",
       "    .dataframe thead th {\n",
       "        text-align: right;\n",
       "    }\n",
       "</style>\n",
       "<table border=\"1\" class=\"dataframe\">\n",
       "  <thead>\n",
       "    <tr style=\"text-align: right;\">\n",
       "      <th></th>\n",
       "      <th>Unnamed: 0</th>\n",
       "      <th>user_id</th>\n",
       "      <th>age</th>\n",
       "      <th>sex</th>\n",
       "      <th>country</th>\n",
       "      <th>checkin_date</th>\n",
       "      <th>trackable_value</th>\n",
       "      <th>Condition</th>\n",
       "      <th>Symptom</th>\n",
       "      <th>Weather</th>\n",
       "      <th>Treatment</th>\n",
       "      <th>Tag</th>\n",
       "      <th>Food</th>\n",
       "      <th>HBI</th>\n",
       "      <th>intensity_cond_symp</th>\n",
       "      <th>time_interval</th>\n",
       "      <th>max_intensity_per_day_</th>\n",
       "      <th>age_cat</th>\n",
       "    </tr>\n",
       "  </thead>\n",
       "  <tbody>\n",
       "    <tr>\n",
       "      <th>0</th>\n",
       "      <td>0</td>\n",
       "      <td>0</td>\n",
       "      <td>21.0</td>\n",
       "      <td>female</td>\n",
       "      <td>CA</td>\n",
       "      <td>2018-07-17</td>\n",
       "      <td>NaN</td>\n",
       "      <td>NaN</td>\n",
       "      <td>abdominal pain</td>\n",
       "      <td>NaN</td>\n",
       "      <td>NaN</td>\n",
       "      <td>NaN</td>\n",
       "      <td>NaN</td>\n",
       "      <td>NaN</td>\n",
       "      <td>1.0</td>\n",
       "      <td>NaN</td>\n",
       "      <td>4.0</td>\n",
       "      <td>age_q1</td>\n",
       "    </tr>\n",
       "    <tr>\n",
       "      <th>1</th>\n",
       "      <td>1</td>\n",
       "      <td>0</td>\n",
       "      <td>21.0</td>\n",
       "      <td>female</td>\n",
       "      <td>CA</td>\n",
       "      <td>2018-07-17</td>\n",
       "      <td>NaN</td>\n",
       "      <td>diarrhea</td>\n",
       "      <td>NaN</td>\n",
       "      <td>NaN</td>\n",
       "      <td>NaN</td>\n",
       "      <td>NaN</td>\n",
       "      <td>NaN</td>\n",
       "      <td>NaN</td>\n",
       "      <td>0.0</td>\n",
       "      <td>0.0</td>\n",
       "      <td>4.0</td>\n",
       "      <td>age_q1</td>\n",
       "    </tr>\n",
       "    <tr>\n",
       "      <th>2</th>\n",
       "      <td>2</td>\n",
       "      <td>0</td>\n",
       "      <td>21.0</td>\n",
       "      <td>female</td>\n",
       "      <td>CA</td>\n",
       "      <td>2018-07-17</td>\n",
       "      <td>NaN</td>\n",
       "      <td>upset stomach</td>\n",
       "      <td>NaN</td>\n",
       "      <td>NaN</td>\n",
       "      <td>NaN</td>\n",
       "      <td>NaN</td>\n",
       "      <td>NaN</td>\n",
       "      <td>NaN</td>\n",
       "      <td>1.0</td>\n",
       "      <td>0.0</td>\n",
       "      <td>4.0</td>\n",
       "      <td>age_q1</td>\n",
       "    </tr>\n",
       "    <tr>\n",
       "      <th>3</th>\n",
       "      <td>3</td>\n",
       "      <td>0</td>\n",
       "      <td>21.0</td>\n",
       "      <td>female</td>\n",
       "      <td>CA</td>\n",
       "      <td>2018-07-17</td>\n",
       "      <td>NaN</td>\n",
       "      <td>dizzyness</td>\n",
       "      <td>NaN</td>\n",
       "      <td>NaN</td>\n",
       "      <td>NaN</td>\n",
       "      <td>NaN</td>\n",
       "      <td>NaN</td>\n",
       "      <td>NaN</td>\n",
       "      <td>2.0</td>\n",
       "      <td>0.0</td>\n",
       "      <td>4.0</td>\n",
       "      <td>age_q1</td>\n",
       "    </tr>\n",
       "    <tr>\n",
       "      <th>4</th>\n",
       "      <td>4</td>\n",
       "      <td>0</td>\n",
       "      <td>21.0</td>\n",
       "      <td>female</td>\n",
       "      <td>CA</td>\n",
       "      <td>2018-07-17</td>\n",
       "      <td>NaN</td>\n",
       "      <td>chron's disease</td>\n",
       "      <td>NaN</td>\n",
       "      <td>NaN</td>\n",
       "      <td>NaN</td>\n",
       "      <td>NaN</td>\n",
       "      <td>NaN</td>\n",
       "      <td>NaN</td>\n",
       "      <td>3.0</td>\n",
       "      <td>0.0</td>\n",
       "      <td>4.0</td>\n",
       "      <td>age_q1</td>\n",
       "    </tr>\n",
       "  </tbody>\n",
       "</table>\n",
       "</div>"
      ],
      "text/plain": [
       "   Unnamed: 0  user_id   age     sex country checkin_date trackable_value  \\\n",
       "0           0        0  21.0  female      CA   2018-07-17             NaN   \n",
       "1           1        0  21.0  female      CA   2018-07-17             NaN   \n",
       "2           2        0  21.0  female      CA   2018-07-17             NaN   \n",
       "3           3        0  21.0  female      CA   2018-07-17             NaN   \n",
       "4           4        0  21.0  female      CA   2018-07-17             NaN   \n",
       "\n",
       "         Condition         Symptom Weather Treatment  Tag Food  HBI  \\\n",
       "0              NaN  abdominal pain     NaN       NaN  NaN  NaN  NaN   \n",
       "1         diarrhea             NaN     NaN       NaN  NaN  NaN  NaN   \n",
       "2    upset stomach             NaN     NaN       NaN  NaN  NaN  NaN   \n",
       "3        dizzyness             NaN     NaN       NaN  NaN  NaN  NaN   \n",
       "4  chron's disease             NaN     NaN       NaN  NaN  NaN  NaN   \n",
       "\n",
       "   intensity_cond_symp  time_interval  max_intensity_per_day_ age_cat  \n",
       "0                  1.0            NaN                     4.0  age_q1  \n",
       "1                  0.0            0.0                     4.0  age_q1  \n",
       "2                  1.0            0.0                     4.0  age_q1  \n",
       "3                  2.0            0.0                     4.0  age_q1  \n",
       "4                  3.0            0.0                     4.0  age_q1  "
      ]
     },
     "execution_count": 3,
     "metadata": {},
     "output_type": "execute_result"
    }
   ],
   "source": [
    "df.head()"
   ]
  },
  {
   "cell_type": "code",
   "execution_count": 8,
   "metadata": {},
   "outputs": [],
   "source": [
    "import datetime\n",
    "df.checkin_date = list(map(lambda x: datetime.datetime.strptime(x, '%Y-%m-%d'), df.checkin_date))"
   ]
  },
  {
   "cell_type": "code",
   "execution_count": 9,
   "metadata": {},
   "outputs": [],
   "source": [
    "df['weekday'] = list(map(lambda x: x.weekday(), df.checkin_date))"
   ]
  },
  {
   "cell_type": "code",
   "execution_count": 12,
   "metadata": {},
   "outputs": [
    {
     "data": {
      "text/html": [
       "<div>\n",
       "<style scoped>\n",
       "    .dataframe tbody tr th:only-of-type {\n",
       "        vertical-align: middle;\n",
       "    }\n",
       "\n",
       "    .dataframe tbody tr th {\n",
       "        vertical-align: top;\n",
       "    }\n",
       "\n",
       "    .dataframe thead th {\n",
       "        text-align: right;\n",
       "    }\n",
       "</style>\n",
       "<table border=\"1\" class=\"dataframe\">\n",
       "  <thead>\n",
       "    <tr style=\"text-align: right;\">\n",
       "      <th></th>\n",
       "      <th>Unnamed: 0</th>\n",
       "      <th>user_id</th>\n",
       "      <th>age</th>\n",
       "      <th>sex</th>\n",
       "      <th>country</th>\n",
       "      <th>checkin_date</th>\n",
       "      <th>trackable_value</th>\n",
       "      <th>Condition</th>\n",
       "      <th>Symptom</th>\n",
       "      <th>Weather</th>\n",
       "      <th>Treatment</th>\n",
       "      <th>Tag</th>\n",
       "      <th>Food</th>\n",
       "      <th>HBI</th>\n",
       "      <th>intensity_cond_symp</th>\n",
       "      <th>time_interval</th>\n",
       "      <th>max_intensity_per_day_</th>\n",
       "      <th>age_cat</th>\n",
       "      <th>weekday</th>\n",
       "    </tr>\n",
       "  </thead>\n",
       "  <tbody>\n",
       "    <tr>\n",
       "      <th>0</th>\n",
       "      <td>0</td>\n",
       "      <td>0</td>\n",
       "      <td>21.0</td>\n",
       "      <td>female</td>\n",
       "      <td>CA</td>\n",
       "      <td>2018-07-17</td>\n",
       "      <td>NaN</td>\n",
       "      <td>NaN</td>\n",
       "      <td>abdominal pain</td>\n",
       "      <td>NaN</td>\n",
       "      <td>NaN</td>\n",
       "      <td>NaN</td>\n",
       "      <td>NaN</td>\n",
       "      <td>NaN</td>\n",
       "      <td>1.0</td>\n",
       "      <td>NaN</td>\n",
       "      <td>4.0</td>\n",
       "      <td>age_q1</td>\n",
       "      <td>1</td>\n",
       "    </tr>\n",
       "    <tr>\n",
       "      <th>1</th>\n",
       "      <td>1</td>\n",
       "      <td>0</td>\n",
       "      <td>21.0</td>\n",
       "      <td>female</td>\n",
       "      <td>CA</td>\n",
       "      <td>2018-07-17</td>\n",
       "      <td>NaN</td>\n",
       "      <td>diarrhea</td>\n",
       "      <td>NaN</td>\n",
       "      <td>NaN</td>\n",
       "      <td>NaN</td>\n",
       "      <td>NaN</td>\n",
       "      <td>NaN</td>\n",
       "      <td>NaN</td>\n",
       "      <td>0.0</td>\n",
       "      <td>0.0</td>\n",
       "      <td>4.0</td>\n",
       "      <td>age_q1</td>\n",
       "      <td>1</td>\n",
       "    </tr>\n",
       "    <tr>\n",
       "      <th>2</th>\n",
       "      <td>2</td>\n",
       "      <td>0</td>\n",
       "      <td>21.0</td>\n",
       "      <td>female</td>\n",
       "      <td>CA</td>\n",
       "      <td>2018-07-17</td>\n",
       "      <td>NaN</td>\n",
       "      <td>upset stomach</td>\n",
       "      <td>NaN</td>\n",
       "      <td>NaN</td>\n",
       "      <td>NaN</td>\n",
       "      <td>NaN</td>\n",
       "      <td>NaN</td>\n",
       "      <td>NaN</td>\n",
       "      <td>1.0</td>\n",
       "      <td>0.0</td>\n",
       "      <td>4.0</td>\n",
       "      <td>age_q1</td>\n",
       "      <td>1</td>\n",
       "    </tr>\n",
       "    <tr>\n",
       "      <th>3</th>\n",
       "      <td>3</td>\n",
       "      <td>0</td>\n",
       "      <td>21.0</td>\n",
       "      <td>female</td>\n",
       "      <td>CA</td>\n",
       "      <td>2018-07-17</td>\n",
       "      <td>NaN</td>\n",
       "      <td>dizzyness</td>\n",
       "      <td>NaN</td>\n",
       "      <td>NaN</td>\n",
       "      <td>NaN</td>\n",
       "      <td>NaN</td>\n",
       "      <td>NaN</td>\n",
       "      <td>NaN</td>\n",
       "      <td>2.0</td>\n",
       "      <td>0.0</td>\n",
       "      <td>4.0</td>\n",
       "      <td>age_q1</td>\n",
       "      <td>1</td>\n",
       "    </tr>\n",
       "    <tr>\n",
       "      <th>4</th>\n",
       "      <td>4</td>\n",
       "      <td>0</td>\n",
       "      <td>21.0</td>\n",
       "      <td>female</td>\n",
       "      <td>CA</td>\n",
       "      <td>2018-07-17</td>\n",
       "      <td>NaN</td>\n",
       "      <td>chron's disease</td>\n",
       "      <td>NaN</td>\n",
       "      <td>NaN</td>\n",
       "      <td>NaN</td>\n",
       "      <td>NaN</td>\n",
       "      <td>NaN</td>\n",
       "      <td>NaN</td>\n",
       "      <td>3.0</td>\n",
       "      <td>0.0</td>\n",
       "      <td>4.0</td>\n",
       "      <td>age_q1</td>\n",
       "      <td>1</td>\n",
       "    </tr>\n",
       "  </tbody>\n",
       "</table>\n",
       "</div>"
      ],
      "text/plain": [
       "   Unnamed: 0  user_id   age     sex country checkin_date trackable_value  \\\n",
       "0           0        0  21.0  female      CA   2018-07-17             NaN   \n",
       "1           1        0  21.0  female      CA   2018-07-17             NaN   \n",
       "2           2        0  21.0  female      CA   2018-07-17             NaN   \n",
       "3           3        0  21.0  female      CA   2018-07-17             NaN   \n",
       "4           4        0  21.0  female      CA   2018-07-17             NaN   \n",
       "\n",
       "         Condition         Symptom Weather Treatment  Tag Food  HBI  \\\n",
       "0              NaN  abdominal pain     NaN       NaN  NaN  NaN  NaN   \n",
       "1         diarrhea             NaN     NaN       NaN  NaN  NaN  NaN   \n",
       "2    upset stomach             NaN     NaN       NaN  NaN  NaN  NaN   \n",
       "3        dizzyness             NaN     NaN       NaN  NaN  NaN  NaN   \n",
       "4  chron's disease             NaN     NaN       NaN  NaN  NaN  NaN   \n",
       "\n",
       "   intensity_cond_symp  time_interval  max_intensity_per_day_ age_cat  weekday  \n",
       "0                  1.0            NaN                     4.0  age_q1        1  \n",
       "1                  0.0            0.0                     4.0  age_q1        1  \n",
       "2                  1.0            0.0                     4.0  age_q1        1  \n",
       "3                  2.0            0.0                     4.0  age_q1        1  \n",
       "4                  3.0            0.0                     4.0  age_q1        1  "
      ]
     },
     "execution_count": 12,
     "metadata": {},
     "output_type": "execute_result"
    }
   ],
   "source": [
    "df.head()"
   ]
  },
  {
   "cell_type": "code",
   "execution_count": null,
   "metadata": {},
   "outputs": [],
   "source": [
    "#que día de la semana repoortan más\n",
    "\n",
    "#cargarme todas las que no tienen condición, ni tratamiento ni síntomas fuera."
   ]
  },
  {
   "cell_type": "markdown",
   "metadata": {},
   "source": [
    "# Reports frequency"
   ]
  },
  {
   "cell_type": "code",
   "execution_count": 15,
   "metadata": {},
   "outputs": [
    {
     "data": {
      "text/plain": [
       "0    1179339\n",
       "1    1178289\n",
       "2    1168329\n",
       "3    1148620\n",
       "6    1126422\n",
       "4    1092221\n",
       "5    1083003\n",
       "Name: weekday, dtype: int64"
      ]
     },
     "execution_count": 15,
     "metadata": {},
     "output_type": "execute_result"
    }
   ],
   "source": [
    "# Most reportings in 0-Monday.\n",
    "# During the weekends the people report less.\n",
    "df['weekday'].value_counts()"
   ]
  },
  {
   "cell_type": "code",
   "execution_count": 18,
   "metadata": {},
   "outputs": [],
   "source": [
    "month_track = list(map(lambda x: x.month, df.checkin_date))"
   ]
  },
  {
   "cell_type": "code",
   "execution_count": 173,
   "metadata": {},
   "outputs": [],
   "source": [
    "df['month'] = month_track"
   ]
  },
  {
   "cell_type": "code",
   "execution_count": 31,
   "metadata": {},
   "outputs": [
    {
     "data": {
      "text/html": [
       "<div>\n",
       "<style scoped>\n",
       "    .dataframe tbody tr th:only-of-type {\n",
       "        vertical-align: middle;\n",
       "    }\n",
       "\n",
       "    .dataframe tbody tr th {\n",
       "        vertical-align: top;\n",
       "    }\n",
       "\n",
       "    .dataframe thead th {\n",
       "        text-align: right;\n",
       "    }\n",
       "</style>\n",
       "<table border=\"1\" class=\"dataframe\">\n",
       "  <thead>\n",
       "    <tr style=\"text-align: right;\">\n",
       "      <th></th>\n",
       "      <th>0</th>\n",
       "    </tr>\n",
       "  </thead>\n",
       "  <tbody>\n",
       "    <tr>\n",
       "      <th>10</th>\n",
       "      <td>808150</td>\n",
       "    </tr>\n",
       "    <tr>\n",
       "      <th>11</th>\n",
       "      <td>771949</td>\n",
       "    </tr>\n",
       "    <tr>\n",
       "      <th>9</th>\n",
       "      <td>761929</td>\n",
       "    </tr>\n",
       "    <tr>\n",
       "      <th>8</th>\n",
       "      <td>732345</td>\n",
       "    </tr>\n",
       "    <tr>\n",
       "      <th>7</th>\n",
       "      <td>710402</td>\n",
       "    </tr>\n",
       "    <tr>\n",
       "      <th>6</th>\n",
       "      <td>664222</td>\n",
       "    </tr>\n",
       "    <tr>\n",
       "      <th>5</th>\n",
       "      <td>650329</td>\n",
       "    </tr>\n",
       "    <tr>\n",
       "      <th>3</th>\n",
       "      <td>636764</td>\n",
       "    </tr>\n",
       "    <tr>\n",
       "      <th>4</th>\n",
       "      <td>604648</td>\n",
       "    </tr>\n",
       "    <tr>\n",
       "      <th>1</th>\n",
       "      <td>589474</td>\n",
       "    </tr>\n",
       "    <tr>\n",
       "      <th>2</th>\n",
       "      <td>536079</td>\n",
       "    </tr>\n",
       "    <tr>\n",
       "      <th>12</th>\n",
       "      <td>509932</td>\n",
       "    </tr>\n",
       "  </tbody>\n",
       "</table>\n",
       "</div>"
      ],
      "text/plain": [
       "         0\n",
       "10  808150\n",
       "11  771949\n",
       "9   761929\n",
       "8   732345\n",
       "7   710402\n",
       "6   664222\n",
       "5   650329\n",
       "3   636764\n",
       "4   604648\n",
       "1   589474\n",
       "2   536079\n",
       "12  509932"
      ]
     },
     "execution_count": 31,
     "metadata": {},
     "output_type": "execute_result"
    }
   ],
   "source": [
    "# Most reports are on october. \n",
    "# In winter there are less reports(12,1,2).\n",
    "from collections import Counter\n",
    "\n",
    "pd.DataFrame.from_dict(dict(Counter(month_track)), orient='index').sort_values(by=0,ascending=False)"
   ]
  },
  {
   "cell_type": "code",
   "execution_count": 32,
   "metadata": {},
   "outputs": [],
   "source": [
    "year_track = list(map(lambda x: x.year, df.checkin_date))"
   ]
  },
  {
   "cell_type": "code",
   "execution_count": 34,
   "metadata": {},
   "outputs": [
    {
     "data": {
      "text/html": [
       "<div>\n",
       "<style scoped>\n",
       "    .dataframe tbody tr th:only-of-type {\n",
       "        vertical-align: middle;\n",
       "    }\n",
       "\n",
       "    .dataframe tbody tr th {\n",
       "        vertical-align: top;\n",
       "    }\n",
       "\n",
       "    .dataframe thead th {\n",
       "        text-align: right;\n",
       "    }\n",
       "</style>\n",
       "<table border=\"1\" class=\"dataframe\">\n",
       "  <thead>\n",
       "    <tr style=\"text-align: right;\">\n",
       "      <th></th>\n",
       "      <th>0</th>\n",
       "    </tr>\n",
       "  </thead>\n",
       "  <tbody>\n",
       "    <tr>\n",
       "      <th>2019</th>\n",
       "      <td>3080399</td>\n",
       "    </tr>\n",
       "    <tr>\n",
       "      <th>2018</th>\n",
       "      <td>2858893</td>\n",
       "    </tr>\n",
       "    <tr>\n",
       "      <th>2017</th>\n",
       "      <td>1488721</td>\n",
       "    </tr>\n",
       "    <tr>\n",
       "      <th>2016</th>\n",
       "      <td>345054</td>\n",
       "    </tr>\n",
       "    <tr>\n",
       "      <th>2015</th>\n",
       "      <td>203052</td>\n",
       "    </tr>\n",
       "    <tr>\n",
       "      <th>2013</th>\n",
       "      <td>49</td>\n",
       "    </tr>\n",
       "    <tr>\n",
       "      <th>2014</th>\n",
       "      <td>30</td>\n",
       "    </tr>\n",
       "    <tr>\n",
       "      <th>2012</th>\n",
       "      <td>25</td>\n",
       "    </tr>\n",
       "  </tbody>\n",
       "</table>\n",
       "</div>"
      ],
      "text/plain": [
       "            0\n",
       "2019  3080399\n",
       "2018  2858893\n",
       "2017  1488721\n",
       "2016   345054\n",
       "2015   203052\n",
       "2013       49\n",
       "2014       30\n",
       "2012       25"
      ]
     },
     "execution_count": 34,
     "metadata": {},
     "output_type": "execute_result"
    }
   ],
   "source": [
    "# There have been more reports in 2018 and 2019. In 2017 reports were the half from the next year.\n",
    "pd.DataFrame.from_dict(dict(Counter(year_track)), orient='index').sort_values(by=0,ascending=False)"
   ]
  },
  {
   "cell_type": "code",
   "execution_count": 36,
   "metadata": {},
   "outputs": [],
   "source": [
    "df['year'] = year_track"
   ]
  },
  {
   "cell_type": "markdown",
   "metadata": {},
   "source": [
    "# Users Frequency"
   ]
  },
  {
   "cell_type": "code",
   "execution_count": 50,
   "metadata": {},
   "outputs": [
    {
     "data": {
      "text/plain": [
       "year\n",
       "2012        1\n",
       "2013        1\n",
       "2014        1\n",
       "2015      681\n",
       "2016     2638\n",
       "2017    11903\n",
       "2018    16034\n",
       "2019    15977\n",
       "Name: user_id, dtype: int64"
      ]
     },
     "execution_count": 50,
     "metadata": {},
     "output_type": "execute_result"
    }
   ],
   "source": [
    "# Unique users per year\n",
    "# 2018 was the year with most unique users. In 2019 unique users go down a bit.\n",
    "df.groupby(['year'])['user_id'].nunique()"
   ]
  },
  {
   "cell_type": "code",
   "execution_count": 58,
   "metadata": {},
   "outputs": [
    {
     "data": {
      "text/plain": [
       "weekday\n",
       "2    17306\n",
       "1    17280\n",
       "0    17064\n",
       "3    16861\n",
       "6    16201\n",
       "4    15913\n",
       "5    15368\n",
       "Name: user_id, dtype: int64"
      ]
     },
     "execution_count": 58,
     "metadata": {},
     "output_type": "execute_result"
    }
   ],
   "source": [
    "# Users use the app more on tuesdays and mondays and sundays.\n",
    "df.groupby(['weekday'])['user_id'].nunique().sort_values(ascending=False)"
   ]
  },
  {
   "cell_type": "code",
   "execution_count": 60,
   "metadata": {},
   "outputs": [
    {
     "data": {
      "text/plain": [
       "weekday\n",
       "2    40.928979\n",
       "1    40.867488\n",
       "0    40.356645\n",
       "3    39.876546\n",
       "6    38.315635\n",
       "4    37.634510\n",
       "5    36.345576\n",
       "Name: user_id, dtype: float64"
      ]
     },
     "execution_count": 60,
     "metadata": {},
     "output_type": "execute_result"
    }
   ],
   "source": [
    "# percentage of users per day\n",
    "total_users = len(set(df.user_id))\n",
    "df.groupby(['weekday'])['user_id'].nunique().sort_values(ascending=False) / total_users * 100"
   ]
  },
  {
   "cell_type": "markdown",
   "metadata": {},
   "source": [
    "# Users demographic"
   ]
  },
  {
   "cell_type": "code",
   "execution_count": 65,
   "metadata": {},
   "outputs": [
    {
     "data": {
      "text/plain": [
       "age_cat\n",
       "age_q1    29.766100\n",
       "age_q2    26.164179\n",
       "age_q3    21.545302\n",
       "age_q4    18.518081\n",
       "Name: user_id, dtype: float64"
      ]
     },
     "execution_count": 65,
     "metadata": {},
     "output_type": "execute_result"
    }
   ],
   "source": [
    "# AGE\n",
    "# Users ages percentage\n",
    "total_users = len(set(df.user_id))\n",
    "df.groupby(['age_cat'])['user_id'].nunique().sort_values(ascending=False) /  total_users * 100"
   ]
  },
  {
   "cell_type": "code",
   "execution_count": 77,
   "metadata": {},
   "outputs": [
    {
     "name": "stdout",
     "output_type": "stream",
     "text": [
      "Age_q1 goes from to: 1.0 26.0\n",
      "Age_q2 goes from to: 27.0 34.0\n",
      "Age_q3 goes from to: 35.0 43.0\n",
      "Age_q4 goes from to: 44.0 99.0\n"
     ]
    }
   ],
   "source": [
    "print('Age_q1 goes from to:',min(df[df['age_cat'] == 'age_q1']['age'].values), max(df[df['age_cat'] == 'age_q1']['age'].values))\n",
    "\n",
    "print('Age_q2 goes from to:',min(df[df['age_cat'] == 'age_q2']['age'].values), max(df[df['age_cat'] == 'age_q2']['age'].values))\n",
    "\n",
    "print('Age_q3 goes from to:',min(df[df['age_cat'] == 'age_q3']['age'].values), max(df[df['age_cat'] == 'age_q3']['age'].values))\n",
    "\n",
    "print('Age_q4 goes from to:',min(df[df['age_cat'] == 'age_q4']['age'].values), max(df[df['age_cat'] == 'age_q4']['age'].values))"
   ]
  },
  {
   "cell_type": "code",
   "execution_count": null,
   "metadata": {},
   "outputs": [],
   "source": [
    "# Almost 30% of users are less than 26 years old.\n",
    "# 26% are between 27 and 34.\n",
    "# So, almost 56% of users are less than 35 years old."
   ]
  },
  {
   "cell_type": "code",
   "execution_count": 75,
   "metadata": {},
   "outputs": [
    {
     "data": {
      "text/plain": [
       "sex\n",
       "doesnt_say     3.878627\n",
       "female        81.969113\n",
       "male           8.270463\n",
       "other          2.838020\n",
       "Name: user_id, dtype: float64"
      ]
     },
     "execution_count": 75,
     "metadata": {},
     "output_type": "execute_result"
    }
   ],
   "source": [
    "# GENDER\n",
    "# Almost 82% of the users are females while just an 8% there are men.\n",
    "# There is a huge class imbalance to predict by gender. ¿?¿?¿?¿\n",
    "df.groupby(['sex'])['user_id'].nunique() /  total_users * 100"
   ]
  },
  {
   "cell_type": "code",
   "execution_count": 76,
   "metadata": {},
   "outputs": [
    {
     "data": {
      "text/plain": [
       "age_cat  sex   \n",
       "age_q1   female    24.591443\n",
       "         male       1.795048\n",
       "age_q2   female    22.108176\n",
       "         male       2.154530\n",
       "age_q3   female    17.957572\n",
       "         male       2.029184\n",
       "age_q4   female    14.987111\n",
       "         male       2.083580\n",
       "Name: user_id, dtype: float64"
      ]
     },
     "execution_count": 76,
     "metadata": {},
     "output_type": "execute_result"
    }
   ],
   "source": [
    "# Males from age_q2 (27-34) are the most common age category while for females the most age category is in age_q1 (0-26).\n",
    "df[df['sex'].isin(['female','male'])].groupby(['age_cat','sex'])['user_id'].nunique() /  total_users * 100"
   ]
  },
  {
   "cell_type": "code",
   "execution_count": 79,
   "metadata": {},
   "outputs": [
    {
     "data": {
      "text/plain": [
       "country\n",
       "US    55.696143\n",
       "GB    14.537757\n",
       "CA     6.714282\n",
       "AU     5.742260\n",
       "NZ     1.078448\n",
       "        ...    \n",
       "KZ     0.002365\n",
       "SC     0.002365\n",
       "BZ     0.002365\n",
       "BW     0.002365\n",
       "PG     0.002365\n",
       "Name: user_id, Length: 164, dtype: float64"
      ]
     },
     "execution_count": 79,
     "metadata": {},
     "output_type": "execute_result"
    }
   ],
   "source": [
    "# COUNTRY\n",
    "# More than half of our users (55.67%) are from the US. Followed by a 14.5% from GB and CA and AU with a 6 and 5%, resp.\n",
    "df.groupby(['country'])['user_id'].nunique().sort_values(ascending=False) /  total_users * 100"
   ]
  },
  {
   "cell_type": "code",
   "execution_count": 85,
   "metadata": {},
   "outputs": [
    {
     "data": {
      "text/plain": [
       "country  sex   \n",
       "AU       female     4.848284\n",
       "         male       0.456448\n",
       "CA       female     5.616915\n",
       "         male       0.515574\n",
       "GB       female    12.305182\n",
       "         male       1.395360\n",
       "US       female    47.808812\n",
       "         male       3.970863\n",
       "Name: user_id, dtype: float64"
      ]
     },
     "execution_count": 85,
     "metadata": {},
     "output_type": "execute_result"
    }
   ],
   "source": [
    "# Every country has an importan gender imbalance. Most females than males.\n",
    "# But, in the US there are around 12 times more women than men.\n",
    "top_countries = df[df['country'].isin(['US','GB','CA','AU'])]\n",
    "top_countries[top_countries['sex'].isin(['female','male'])].groupby(['country','sex'])['user_id'].nunique() /  total_users * 100"
   ]
  },
  {
   "cell_type": "code",
   "execution_count": 94,
   "metadata": {},
   "outputs": [
    {
     "data": {
      "text/html": [
       "<div>\n",
       "<style scoped>\n",
       "    .dataframe tbody tr th:only-of-type {\n",
       "        vertical-align: middle;\n",
       "    }\n",
       "\n",
       "    .dataframe tbody tr th {\n",
       "        vertical-align: top;\n",
       "    }\n",
       "\n",
       "    .dataframe thead th {\n",
       "        text-align: right;\n",
       "    }\n",
       "</style>\n",
       "<table border=\"1\" class=\"dataframe\">\n",
       "  <thead>\n",
       "    <tr style=\"text-align: right;\">\n",
       "      <th></th>\n",
       "      <th>country</th>\n",
       "      <th>sex</th>\n",
       "      <th>age_cat</th>\n",
       "      <th>user_id</th>\n",
       "    </tr>\n",
       "  </thead>\n",
       "  <tbody>\n",
       "    <tr>\n",
       "      <th>24</th>\n",
       "      <td>US</td>\n",
       "      <td>female</td>\n",
       "      <td>age_q1</td>\n",
       "      <td>14.015089</td>\n",
       "    </tr>\n",
       "    <tr>\n",
       "      <th>25</th>\n",
       "      <td>US</td>\n",
       "      <td>female</td>\n",
       "      <td>age_q2</td>\n",
       "      <td>12.432893</td>\n",
       "    </tr>\n",
       "    <tr>\n",
       "      <th>26</th>\n",
       "      <td>US</td>\n",
       "      <td>female</td>\n",
       "      <td>age_q3</td>\n",
       "      <td>10.649670</td>\n",
       "    </tr>\n",
       "    <tr>\n",
       "      <th>27</th>\n",
       "      <td>US</td>\n",
       "      <td>female</td>\n",
       "      <td>age_q4</td>\n",
       "      <td>9.443512</td>\n",
       "    </tr>\n",
       "    <tr>\n",
       "      <th>28</th>\n",
       "      <td>US</td>\n",
       "      <td>male</td>\n",
       "      <td>age_q1</td>\n",
       "      <td>0.851406</td>\n",
       "    </tr>\n",
       "    <tr>\n",
       "      <th>29</th>\n",
       "      <td>US</td>\n",
       "      <td>male</td>\n",
       "      <td>age_q2</td>\n",
       "      <td>1.007497</td>\n",
       "    </tr>\n",
       "    <tr>\n",
       "      <th>30</th>\n",
       "      <td>US</td>\n",
       "      <td>male</td>\n",
       "      <td>age_q3</td>\n",
       "      <td>0.946007</td>\n",
       "    </tr>\n",
       "    <tr>\n",
       "      <th>31</th>\n",
       "      <td>US</td>\n",
       "      <td>male</td>\n",
       "      <td>age_q4</td>\n",
       "      <td>1.059527</td>\n",
       "    </tr>\n",
       "  </tbody>\n",
       "</table>\n",
       "</div>"
      ],
      "text/plain": [
       "   country     sex age_cat    user_id\n",
       "24      US  female  age_q1  14.015089\n",
       "25      US  female  age_q2  12.432893\n",
       "26      US  female  age_q3  10.649670\n",
       "27      US  female  age_q4   9.443512\n",
       "28      US    male  age_q1   0.851406\n",
       "29      US    male  age_q2   1.007497\n",
       "30      US    male  age_q3   0.946007\n",
       "31      US    male  age_q4   1.059527"
      ]
     },
     "execution_count": 94,
     "metadata": {},
     "output_type": "execute_result"
    }
   ],
   "source": [
    "# Choosing US as our prinipall market we can see that there is not to much difference between ages categories.\n",
    "# Although in females most commons users are between 0-26 years old while males most common users are btwn 27-34.\n",
    "users_by_demographs = pd.DataFrame(top_countries[top_countries['sex'].isin(['female','male'])].groupby(['country','sex','age_cat'])['user_id'].nunique() /  total_users * 100).reset_index()\n",
    "users_by_demographs[users_by_demographs['country'] == 'US']"
   ]
  },
  {
   "cell_type": "markdown",
   "metadata": {},
   "source": [
    "# Symptoms frequency"
   ]
  },
  {
   "cell_type": "code",
   "execution_count": 100,
   "metadata": {},
   "outputs": [
    {
     "data": {
      "text/plain": [
       "Symptom\n",
       "fatigue           16361\n",
       "headache           9047\n",
       "abdominal pain     7551\n",
       "back pain          7439\n",
       "joint pain         6818\n",
       "nausea             6273\n",
       "brain fog          5088\n",
       "anxiety            4973\n",
       "dizziness          4376\n",
       "diarrhea           3531\n",
       "Name: user_id, dtype: int64"
      ]
     },
     "execution_count": 100,
     "metadata": {},
     "output_type": "execute_result"
    }
   ],
   "source": [
    "# From top_countries and everywhere the most common symptoms by users are:\n",
    "top_countries.groupby(['Symptom'])['user_id'].nunique().sort_values(ascending=False).head(10)"
   ]
  },
  {
   "cell_type": "code",
   "execution_count": 101,
   "metadata": {},
   "outputs": [
    {
     "data": {
      "text/plain": [
       "Symptom\n",
       "fatigue           19209\n",
       "headache          10629\n",
       "abdominal pain     8920\n",
       "back pain          8699\n",
       "joint pain         7811\n",
       "nausea             7216\n",
       "brain fog          5845\n",
       "anxiety            5761\n",
       "dizziness          5062\n",
       "diarrhea           4082\n",
       "Name: user_id, dtype: int64"
      ]
     },
     "execution_count": 101,
     "metadata": {},
     "output_type": "execute_result"
    }
   ],
   "source": [
    "df.groupby(['Symptom'])['user_id'].nunique().sort_values(ascending=False).head(10)"
   ]
  },
  {
   "cell_type": "markdown",
   "metadata": {},
   "source": [
    "# Condition frequency"
   ]
  },
  {
   "cell_type": "code",
   "execution_count": 102,
   "metadata": {},
   "outputs": [
    {
     "data": {
      "text/plain": [
       "Condition\n",
       "fibromyalgia                                 8303\n",
       "anxiety                                      6427\n",
       "depression                                   6267\n",
       "chron's disease                              5731\n",
       "chronic fatigue syndrome                     3465\n",
       "fatigue                                      2944\n",
       "arthritis                                    2781\n",
       "migraine                                     2729\n",
       "postural orthostatic tachycardia syndrome    2549\n",
       "endometriosis                                2312\n",
       "Name: user_id, dtype: int64"
      ]
     },
     "execution_count": 102,
     "metadata": {},
     "output_type": "execute_result"
    }
   ],
   "source": [
    "# From top_countries and everywhere the most common conditioons by users are:\n",
    "df.groupby(['Condition'])['user_id'].nunique().sort_values(ascending=False).head(10)"
   ]
  },
  {
   "cell_type": "markdown",
   "metadata": {},
   "source": [
    "# Pain intensity through different periods\n",
    "### Does the pattern changes during the weekend? For example."
   ]
  },
  {
   "cell_type": "code",
   "execution_count": 164,
   "metadata": {},
   "outputs": [],
   "source": [
    "x = round((df.groupby(['weekday','intensity_cond_symp'])['user_id'].nunique()/ total_users * 100),2).reset_index().sort_values(by=['weekday','user_id'],ascending=[True,False])"
   ]
  },
  {
   "cell_type": "code",
   "execution_count": 170,
   "metadata": {},
   "outputs": [
    {
     "data": {
      "text/plain": [
       "<AxesSubplot:xlabel='weekday', ylabel='user_id'>"
      ]
     },
     "execution_count": 170,
     "metadata": {},
     "output_type": "execute_result"
    },
    {
     "data": {
      "image/png": "[encoded data removed]",
      "text/plain": [
       "<Figure size 432x288 with 1 Axes>"
      ]
     },
     "metadata": {
      "needs_background": "light"
     },
     "output_type": "display_data"
    }
   ],
   "source": [
    "sns.barplot(data = x.reset_index(), x = 'weekday', y = 'user_id', hue='intensity_cond_symp')"
   ]
  },
  {
   "cell_type": "code",
   "execution_count": null,
   "metadata": {},
   "outputs": [],
   "source": [
    "# we can see that the behavior of intensity of pain felt by the user doesn't change drastically from\n",
    "# one day to another.\n",
    "# The higher intensity is always 2 followed by 1 and 3, while intensity 4 is the less suffered every day."
   ]
  },
  {
   "cell_type": "code",
   "execution_count": 172,
   "metadata": {},
   "outputs": [
    {
     "data": {
      "text/plain": [
       "<AxesSubplot:xlabel='year', ylabel='user_id'>"
      ]
     },
     "execution_count": 172,
     "metadata": {},
     "output_type": "execute_result"
    },
    {
     "data": {
      "image/png": "[encoded data removed]",
      "text/plain": [
       "<Figure size 432x288 with 1 Axes>"
      ]
     },
     "metadata": {
      "needs_background": "light"
     },
     "output_type": "display_data"
    }
   ],
   "source": [
    "a = round((df.groupby(['year','intensity_cond_symp'])['user_id'].nunique()/ total_users * 100),2).reset_index().sort_values(by=['year','user_id'],ascending=[True,False])\n",
    "\n",
    "sns.barplot(data = a.reset_index(), x = 'year', y = 'user_id', hue='intensity_cond_symp')"
   ]
  },
  {
   "cell_type": "code",
   "execution_count": 174,
   "metadata": {},
   "outputs": [
    {
     "data": {
      "text/plain": [
       "<AxesSubplot:xlabel='month', ylabel='user_id'>"
      ]
     },
     "execution_count": 174,
     "metadata": {},
     "output_type": "execute_result"
    },
    {
     "data": {
      "image/png": "[encoded data removed]",
      "text/plain": [
       "<Figure size 432x288 with 1 Axes>"
      ]
     },
     "metadata": {
      "needs_background": "light"
     },
     "output_type": "display_data"
    }
   ],
   "source": [
    "b = round((df.groupby(['month','intensity_cond_symp'])['user_id'].nunique()/ total_users * 100),2).reset_index().sort_values(by=['month','user_id'],ascending=[True,False])\n",
    "\n",
    "sns.barplot(data = b.reset_index(), x = 'month', y = 'user_id', hue='intensity_cond_symp')"
   ]
  },
  {
   "cell_type": "code",
   "execution_count": null,
   "metadata": {},
   "outputs": [],
   "source": [
    "# There is no pattern between the time an the pain intensity. It always have the same behaviour."
   ]
  },
  {
   "cell_type": "markdown",
   "metadata": {},
   "source": [
    "# Day with more reports"
   ]
  },
  {
   "cell_type": "code",
   "execution_count": 185,
   "metadata": {},
   "outputs": [
    {
     "data": {
      "text/html": [
       "<div>\n",
       "<style scoped>\n",
       "    .dataframe tbody tr th:only-of-type {\n",
       "        vertical-align: middle;\n",
       "    }\n",
       "\n",
       "    .dataframe tbody tr th {\n",
       "        vertical-align: top;\n",
       "    }\n",
       "\n",
       "    .dataframe thead th {\n",
       "        text-align: right;\n",
       "    }\n",
       "</style>\n",
       "<table border=\"1\" class=\"dataframe\">\n",
       "  <thead>\n",
       "    <tr style=\"text-align: right;\">\n",
       "      <th></th>\n",
       "      <th>weekday</th>\n",
       "      <th>intensity_cond_symp</th>\n",
       "    </tr>\n",
       "  </thead>\n",
       "  <tbody>\n",
       "    <tr>\n",
       "      <th>0</th>\n",
       "      <td>0</td>\n",
       "      <td>711806</td>\n",
       "    </tr>\n",
       "    <tr>\n",
       "      <th>1</th>\n",
       "      <td>1</td>\n",
       "      <td>709087</td>\n",
       "    </tr>\n",
       "    <tr>\n",
       "      <th>2</th>\n",
       "      <td>2</td>\n",
       "      <td>703033</td>\n",
       "    </tr>\n",
       "    <tr>\n",
       "      <th>3</th>\n",
       "      <td>3</td>\n",
       "      <td>690078</td>\n",
       "    </tr>\n",
       "    <tr>\n",
       "      <th>6</th>\n",
       "      <td>6</td>\n",
       "      <td>678084</td>\n",
       "    </tr>\n",
       "    <tr>\n",
       "      <th>4</th>\n",
       "      <td>4</td>\n",
       "      <td>655311</td>\n",
       "    </tr>\n",
       "    <tr>\n",
       "      <th>5</th>\n",
       "      <td>5</td>\n",
       "      <td>648826</td>\n",
       "    </tr>\n",
       "  </tbody>\n",
       "</table>\n",
       "</div>"
      ],
      "text/plain": [
       "   weekday  intensity_cond_symp\n",
       "0        0               711806\n",
       "1        1               709087\n",
       "2        2               703033\n",
       "3        3               690078\n",
       "6        6               678084\n",
       "4        4               655311\n",
       "5        5               648826"
      ]
     },
     "execution_count": 185,
     "metadata": {},
     "output_type": "execute_result"
    }
   ],
   "source": [
    "# sunday is the day with more reprts while thursday and saturday are the days with less reports.\n",
    "df.groupby(['weekday'])['intensity_cond_symp'].count().reset_index().sort_values(by='intensity_cond_symp',ascending=False)"
   ]
  },
  {
   "cell_type": "code",
   "execution_count": 206,
   "metadata": {},
   "outputs": [
    {
     "data": {
      "text/html": [
       "<div>\n",
       "<style scoped>\n",
       "    .dataframe tbody tr th:only-of-type {\n",
       "        vertical-align: middle;\n",
       "    }\n",
       "\n",
       "    .dataframe tbody tr th {\n",
       "        vertical-align: top;\n",
       "    }\n",
       "\n",
       "    .dataframe thead th {\n",
       "        text-align: right;\n",
       "    }\n",
       "</style>\n",
       "<table border=\"1\" class=\"dataframe\">\n",
       "  <thead>\n",
       "    <tr style=\"text-align: right;\">\n",
       "      <th></th>\n",
       "      <th>year</th>\n",
       "      <th>month</th>\n",
       "      <th>user_id</th>\n",
       "    </tr>\n",
       "  </thead>\n",
       "  <tbody>\n",
       "    <tr>\n",
       "      <th>0</th>\n",
       "      <td>2017</td>\n",
       "      <td>1</td>\n",
       "      <td>44</td>\n",
       "    </tr>\n",
       "    <tr>\n",
       "      <th>1</th>\n",
       "      <td>2017</td>\n",
       "      <td>2</td>\n",
       "      <td>35</td>\n",
       "    </tr>\n",
       "    <tr>\n",
       "      <th>2</th>\n",
       "      <td>2017</td>\n",
       "      <td>3</td>\n",
       "      <td>36</td>\n",
       "    </tr>\n",
       "    <tr>\n",
       "      <th>3</th>\n",
       "      <td>2017</td>\n",
       "      <td>4</td>\n",
       "      <td>40</td>\n",
       "    </tr>\n",
       "    <tr>\n",
       "      <th>4</th>\n",
       "      <td>2017</td>\n",
       "      <td>5</td>\n",
       "      <td>40</td>\n",
       "    </tr>\n",
       "    <tr>\n",
       "      <th>5</th>\n",
       "      <td>2017</td>\n",
       "      <td>6</td>\n",
       "      <td>40</td>\n",
       "    </tr>\n",
       "    <tr>\n",
       "      <th>6</th>\n",
       "      <td>2017</td>\n",
       "      <td>7</td>\n",
       "      <td>52</td>\n",
       "    </tr>\n",
       "    <tr>\n",
       "      <th>7</th>\n",
       "      <td>2017</td>\n",
       "      <td>8</td>\n",
       "      <td>62</td>\n",
       "    </tr>\n",
       "    <tr>\n",
       "      <th>8</th>\n",
       "      <td>2017</td>\n",
       "      <td>9</td>\n",
       "      <td>104</td>\n",
       "    </tr>\n",
       "    <tr>\n",
       "      <th>9</th>\n",
       "      <td>2017</td>\n",
       "      <td>10</td>\n",
       "      <td>140</td>\n",
       "    </tr>\n",
       "    <tr>\n",
       "      <th>10</th>\n",
       "      <td>2017</td>\n",
       "      <td>11</td>\n",
       "      <td>105</td>\n",
       "    </tr>\n",
       "    <tr>\n",
       "      <th>11</th>\n",
       "      <td>2017</td>\n",
       "      <td>12</td>\n",
       "      <td>88</td>\n",
       "    </tr>\n",
       "    <tr>\n",
       "      <th>12</th>\n",
       "      <td>2018</td>\n",
       "      <td>1</td>\n",
       "      <td>120</td>\n",
       "    </tr>\n",
       "    <tr>\n",
       "      <th>13</th>\n",
       "      <td>2018</td>\n",
       "      <td>2</td>\n",
       "      <td>105</td>\n",
       "    </tr>\n",
       "    <tr>\n",
       "      <th>14</th>\n",
       "      <td>2018</td>\n",
       "      <td>3</td>\n",
       "      <td>101</td>\n",
       "    </tr>\n",
       "    <tr>\n",
       "      <th>15</th>\n",
       "      <td>2018</td>\n",
       "      <td>4</td>\n",
       "      <td>116</td>\n",
       "    </tr>\n",
       "    <tr>\n",
       "      <th>16</th>\n",
       "      <td>2018</td>\n",
       "      <td>5</td>\n",
       "      <td>128</td>\n",
       "    </tr>\n",
       "    <tr>\n",
       "      <th>17</th>\n",
       "      <td>2018</td>\n",
       "      <td>6</td>\n",
       "      <td>119</td>\n",
       "    </tr>\n",
       "    <tr>\n",
       "      <th>18</th>\n",
       "      <td>2018</td>\n",
       "      <td>7</td>\n",
       "      <td>116</td>\n",
       "    </tr>\n",
       "    <tr>\n",
       "      <th>19</th>\n",
       "      <td>2018</td>\n",
       "      <td>8</td>\n",
       "      <td>97</td>\n",
       "    </tr>\n",
       "    <tr>\n",
       "      <th>20</th>\n",
       "      <td>2018</td>\n",
       "      <td>9</td>\n",
       "      <td>118</td>\n",
       "    </tr>\n",
       "    <tr>\n",
       "      <th>21</th>\n",
       "      <td>2018</td>\n",
       "      <td>10</td>\n",
       "      <td>103</td>\n",
       "    </tr>\n",
       "    <tr>\n",
       "      <th>22</th>\n",
       "      <td>2018</td>\n",
       "      <td>11</td>\n",
       "      <td>96</td>\n",
       "    </tr>\n",
       "    <tr>\n",
       "      <th>23</th>\n",
       "      <td>2018</td>\n",
       "      <td>12</td>\n",
       "      <td>103</td>\n",
       "    </tr>\n",
       "    <tr>\n",
       "      <th>24</th>\n",
       "      <td>2019</td>\n",
       "      <td>1</td>\n",
       "      <td>114</td>\n",
       "    </tr>\n",
       "    <tr>\n",
       "      <th>25</th>\n",
       "      <td>2019</td>\n",
       "      <td>2</td>\n",
       "      <td>96</td>\n",
       "    </tr>\n",
       "    <tr>\n",
       "      <th>26</th>\n",
       "      <td>2019</td>\n",
       "      <td>3</td>\n",
       "      <td>84</td>\n",
       "    </tr>\n",
       "    <tr>\n",
       "      <th>27</th>\n",
       "      <td>2019</td>\n",
       "      <td>4</td>\n",
       "      <td>82</td>\n",
       "    </tr>\n",
       "    <tr>\n",
       "      <th>28</th>\n",
       "      <td>2019</td>\n",
       "      <td>5</td>\n",
       "      <td>84</td>\n",
       "    </tr>\n",
       "    <tr>\n",
       "      <th>29</th>\n",
       "      <td>2019</td>\n",
       "      <td>6</td>\n",
       "      <td>104</td>\n",
       "    </tr>\n",
       "    <tr>\n",
       "      <th>30</th>\n",
       "      <td>2019</td>\n",
       "      <td>7</td>\n",
       "      <td>111</td>\n",
       "    </tr>\n",
       "    <tr>\n",
       "      <th>31</th>\n",
       "      <td>2019</td>\n",
       "      <td>8</td>\n",
       "      <td>117</td>\n",
       "    </tr>\n",
       "    <tr>\n",
       "      <th>32</th>\n",
       "      <td>2019</td>\n",
       "      <td>9</td>\n",
       "      <td>90</td>\n",
       "    </tr>\n",
       "    <tr>\n",
       "      <th>33</th>\n",
       "      <td>2019</td>\n",
       "      <td>10</td>\n",
       "      <td>90</td>\n",
       "    </tr>\n",
       "    <tr>\n",
       "      <th>34</th>\n",
       "      <td>2019</td>\n",
       "      <td>11</td>\n",
       "      <td>98</td>\n",
       "    </tr>\n",
       "    <tr>\n",
       "      <th>35</th>\n",
       "      <td>2019</td>\n",
       "      <td>12</td>\n",
       "      <td>34</td>\n",
       "    </tr>\n",
       "  </tbody>\n",
       "</table>\n",
       "</div>"
      ],
      "text/plain": [
       "    year  month  user_id\n",
       "0   2017      1       44\n",
       "1   2017      2       35\n",
       "2   2017      3       36\n",
       "3   2017      4       40\n",
       "4   2017      5       40\n",
       "5   2017      6       40\n",
       "6   2017      7       52\n",
       "7   2017      8       62\n",
       "8   2017      9      104\n",
       "9   2017     10      140\n",
       "10  2017     11      105\n",
       "11  2017     12       88\n",
       "12  2018      1      120\n",
       "13  2018      2      105\n",
       "14  2018      3      101\n",
       "15  2018      4      116\n",
       "16  2018      5      128\n",
       "17  2018      6      119\n",
       "18  2018      7      116\n",
       "19  2018      8       97\n",
       "20  2018      9      118\n",
       "21  2018     10      103\n",
       "22  2018     11       96\n",
       "23  2018     12      103\n",
       "24  2019      1      114\n",
       "25  2019      2       96\n",
       "26  2019      3       84\n",
       "27  2019      4       82\n",
       "28  2019      5       84\n",
       "29  2019      6      104\n",
       "30  2019      7      111\n",
       "31  2019      8      117\n",
       "32  2019      9       90\n",
       "33  2019     10       90\n",
       "34  2019     11       98\n",
       "35  2019     12       34"
      ]
     },
     "execution_count": 206,
     "metadata": {},
     "output_type": "execute_result"
    }
   ],
   "source": [
    "c = df[df['Condition'] == 'ibs']\n",
    "d = c[c['year'].isin([2017,2018,2019])].groupby(['year','month'])['user_id'].nunique().reset_index().sort_values(by=['year','month'],ascending=[True,True])\n",
    "d"
   ]
  },
  {
   "cell_type": "code",
   "execution_count": 203,
   "metadata": {},
   "outputs": [
    {
     "data": {
      "text/plain": [
       "<AxesSubplot:xlabel='month', ylabel='user_id'>"
      ]
     },
     "execution_count": 203,
     "metadata": {},
     "output_type": "execute_result"
    },
    {
     "data": {
      "image/png": "[encoded data removed]",
      "text/plain": [
       "<Figure size 432x288 with 1 Axes>"
      ]
     },
     "metadata": {
      "needs_background": "light"
     },
     "output_type": "display_data"
    }
   ],
   "source": [
    "# número de usuarios por mes y año que padecen ibs\n",
    "sns.barplot(data = d.reset_index(), x = 'month', y = 'user_id', hue='year')"
   ]
  },
  {
   "cell_type": "code",
   "execution_count": 211,
   "metadata": {},
   "outputs": [
    {
     "data": {
      "text/html": [
       "<div>\n",
       "<style scoped>\n",
       "    .dataframe tbody tr th:only-of-type {\n",
       "        vertical-align: middle;\n",
       "    }\n",
       "\n",
       "    .dataframe tbody tr th {\n",
       "        vertical-align: top;\n",
       "    }\n",
       "\n",
       "    .dataframe thead th {\n",
       "        text-align: right;\n",
       "    }\n",
       "</style>\n",
       "<table border=\"1\" class=\"dataframe\">\n",
       "  <thead>\n",
       "    <tr style=\"text-align: right;\">\n",
       "      <th></th>\n",
       "      <th>year</th>\n",
       "      <th>intensity_cond_symp</th>\n",
       "      <th>user_id</th>\n",
       "    </tr>\n",
       "  </thead>\n",
       "  <tbody>\n",
       "    <tr>\n",
       "      <th>0</th>\n",
       "      <td>2017</td>\n",
       "      <td>0.0</td>\n",
       "      <td>166</td>\n",
       "    </tr>\n",
       "    <tr>\n",
       "      <th>1</th>\n",
       "      <td>2017</td>\n",
       "      <td>1.0</td>\n",
       "      <td>274</td>\n",
       "    </tr>\n",
       "    <tr>\n",
       "      <th>2</th>\n",
       "      <td>2017</td>\n",
       "      <td>2.0</td>\n",
       "      <td>264</td>\n",
       "    </tr>\n",
       "    <tr>\n",
       "      <th>3</th>\n",
       "      <td>2017</td>\n",
       "      <td>3.0</td>\n",
       "      <td>203</td>\n",
       "    </tr>\n",
       "    <tr>\n",
       "      <th>4</th>\n",
       "      <td>2017</td>\n",
       "      <td>4.0</td>\n",
       "      <td>140</td>\n",
       "    </tr>\n",
       "    <tr>\n",
       "      <th>5</th>\n",
       "      <td>2018</td>\n",
       "      <td>0.0</td>\n",
       "      <td>263</td>\n",
       "    </tr>\n",
       "    <tr>\n",
       "      <th>6</th>\n",
       "      <td>2018</td>\n",
       "      <td>1.0</td>\n",
       "      <td>411</td>\n",
       "    </tr>\n",
       "    <tr>\n",
       "      <th>7</th>\n",
       "      <td>2018</td>\n",
       "      <td>2.0</td>\n",
       "      <td>439</td>\n",
       "    </tr>\n",
       "    <tr>\n",
       "      <th>8</th>\n",
       "      <td>2018</td>\n",
       "      <td>3.0</td>\n",
       "      <td>335</td>\n",
       "    </tr>\n",
       "    <tr>\n",
       "      <th>9</th>\n",
       "      <td>2018</td>\n",
       "      <td>4.0</td>\n",
       "      <td>200</td>\n",
       "    </tr>\n",
       "    <tr>\n",
       "      <th>10</th>\n",
       "      <td>2019</td>\n",
       "      <td>0.0</td>\n",
       "      <td>215</td>\n",
       "    </tr>\n",
       "    <tr>\n",
       "      <th>11</th>\n",
       "      <td>2019</td>\n",
       "      <td>1.0</td>\n",
       "      <td>344</td>\n",
       "    </tr>\n",
       "    <tr>\n",
       "      <th>12</th>\n",
       "      <td>2019</td>\n",
       "      <td>2.0</td>\n",
       "      <td>362</td>\n",
       "    </tr>\n",
       "    <tr>\n",
       "      <th>13</th>\n",
       "      <td>2019</td>\n",
       "      <td>3.0</td>\n",
       "      <td>267</td>\n",
       "    </tr>\n",
       "    <tr>\n",
       "      <th>14</th>\n",
       "      <td>2019</td>\n",
       "      <td>4.0</td>\n",
       "      <td>173</td>\n",
       "    </tr>\n",
       "  </tbody>\n",
       "</table>\n",
       "</div>"
      ],
      "text/plain": [
       "    year  intensity_cond_symp  user_id\n",
       "0   2017                  0.0      166\n",
       "1   2017                  1.0      274\n",
       "2   2017                  2.0      264\n",
       "3   2017                  3.0      203\n",
       "4   2017                  4.0      140\n",
       "5   2018                  0.0      263\n",
       "6   2018                  1.0      411\n",
       "7   2018                  2.0      439\n",
       "8   2018                  3.0      335\n",
       "9   2018                  4.0      200\n",
       "10  2019                  0.0      215\n",
       "11  2019                  1.0      344\n",
       "12  2019                  2.0      362\n",
       "13  2019                  3.0      267\n",
       "14  2019                  4.0      173"
      ]
     },
     "execution_count": 211,
     "metadata": {},
     "output_type": "execute_result"
    }
   ],
   "source": [
    "e = df[df['Condition'] == 'ibs']\n",
    "f = e[e['year'].isin([2017,2018,2019])].groupby(['year','intensity_cond_symp'])['user_id'].nunique().reset_index().sort_values(by=['year','intensity_cond_symp'],ascending=[True,True])\n",
    "f"
   ]
  },
  {
   "cell_type": "code",
   "execution_count": 212,
   "metadata": {},
   "outputs": [
    {
     "data": {
      "text/plain": [
       "<AxesSubplot:xlabel='intensity_cond_symp', ylabel='user_id'>"
      ]
     },
     "execution_count": 212,
     "metadata": {},
     "output_type": "execute_result"
    },
    {
     "data": {
      "image/png": "[encoded data removed]",
      "text/plain": [
       "<Figure size 432x288 with 1 Axes>"
      ]
     },
     "metadata": {
      "needs_background": "light"
     },
     "output_type": "display_data"
    }
   ],
   "source": [
    "# número de usuarios por dolor que padecen ibs\n",
    "sns.barplot(data = f.reset_index(), x = 'intensity_cond_symp', y = 'user_id', hue='year')"
   ]
  },
  {
   "cell_type": "markdown",
   "metadata": {},
   "source": [
    "# pain evolution throught the most important years in the main symptoms"
   ]
  },
  {
   "cell_type": "code",
   "execution_count": 330,
   "metadata": {},
   "outputs": [],
   "source": [
    "top_symptoms = list(df.Symptom.value_counts().head(10).index)\n",
    "df['top_symptoms'] = np.where(df['Symptom'].isin(top_symptoms),df['Symptom'],'Other')"
   ]
  },
  {
   "cell_type": "code",
   "execution_count": 331,
   "metadata": {},
   "outputs": [
    {
     "data": {
      "text/plain": [
       "<AxesSubplot:xlabel='top_symptoms', ylabel='intensity_cond_symp'>"
      ]
     },
     "execution_count": 331,
     "metadata": {},
     "output_type": "execute_result"
    },
    {
     "data": {
      "image/png": "[encoded data removed]",
      "text/plain": [
       "<Figure size 1800x432 with 1 Axes>"
      ]
     },
     "metadata": {
      "needs_background": "light"
     },
     "output_type": "display_data"
    }
   ],
   "source": [
    "# intensidad media de dolor por s´ntoma\n",
    "top_symptoms = df[df['top_symptoms'] != 'Other']\n",
    "top_symptoms = top_symptoms[top_symptoms['year'].isin([2017,2018,2019])]\n",
    "top_symptoms_df = pd.DataFrame(top_symptoms.groupby(['year','top_symptoms'])['intensity_cond_symp'].mean()).reset_index()\n",
    "\n",
    "fig_dims = (25, 6)\n",
    "fig, ax = plt.subplots(figsize=fig_dims)\n",
    "sns.barplot(data = top_symptoms_df.reset_index(), x = 'top_symptoms', y = 'intensity_cond_symp', hue='year',ax=ax)"
   ]
  },
  {
   "cell_type": "code",
   "execution_count": null,
   "metadata": {},
   "outputs": [],
   "source": [
    "# a lot of the symptoms go down through the years."
   ]
  },
  {
   "cell_type": "markdown",
   "metadata": {},
   "source": [
    "# pain evolution throught the most important years in the main conditions"
   ]
  },
  {
   "cell_type": "code",
   "execution_count": 281,
   "metadata": {},
   "outputs": [],
   "source": [
    "top_conditions = list(df.Condition.value_counts().head(10).index)\n",
    "df['top_conditions'] = np.where(df['Condition'].isin(top_conditions),df['Condition'],'Other')"
   ]
  },
  {
   "cell_type": "code",
   "execution_count": 285,
   "metadata": {},
   "outputs": [
    {
     "data": {
      "text/plain": [
       "<AxesSubplot:xlabel='top_conditions', ylabel='intensity_cond_symp'>"
      ]
     },
     "execution_count": 285,
     "metadata": {},
     "output_type": "execute_result"
    },
    {
     "data": {
      "image/png": "[encoded data removed]",
      "text/plain": [
       "<Figure size 1800x432 with 1 Axes>"
      ]
     },
     "metadata": {
      "needs_background": "light"
     },
     "output_type": "display_data"
    }
   ],
   "source": [
    "top_cond = df[df['top_conditions'] != 'Other']\n",
    "top_cond = top_cond[top_cond['year'].isin([2017,2018,2019])]\n",
    "top_cond_df = pd.DataFrame(top_cond.groupby(['year','top_conditions'])['intensity_cond_symp'].mean()).reset_index()\n",
    "\n",
    "fig_dims = (25, 6)\n",
    "fig, ax = plt.subplots(figsize=fig_dims)\n",
    "sns.barplot(data = top_cond_df.reset_index(), x = 'top_conditions', y = 'intensity_cond_symp', hue='year',ax=ax)"
   ]
  },
  {
   "cell_type": "markdown",
   "metadata": {},
   "source": [
    "# CFS users exploration"
   ]
  },
  {
   "cell_type": "code",
   "execution_count": 309,
   "metadata": {},
   "outputs": [
    {
     "data": {
      "text/plain": [
       "<AxesSubplot:xlabel='Treatment', ylabel='max_intensity_per_day_'>"
      ]
     },
     "execution_count": 309,
     "metadata": {},
     "output_type": "execute_result"
    },
    {
     "data": {
      "image/png": "[encoded data removed]",
      "text/plain": [
       "<Figure size 1800x432 with 1 Axes>"
      ]
     },
     "metadata": {
      "needs_background": "light"
     },
     "output_type": "display_data"
    }
   ],
   "source": [
    "# Users with CFS have lower pain through the years.\n",
    "# We can check the main treatments they have through the years and find there is no pattern\n",
    "# because they continue having a similar amount except multivitamins.\n",
    "user_cfs = set(df[df['top_conditions'] == 'chronic fatigue syndrome']['user_id'].values)\n",
    "better_years = df[df['year'].isin([2017,2018,2019])]\n",
    "better_years_user_cfs_df = better_years[better_years['user_id'].isin(user_cfs)]\n",
    "better_years_user_cfs_df_treat = better_years_user_cfs_df[better_years_user_cfs_df['Treatment'].isin(['ibuprofen','multivitamin','magnesium','paracetamol','vitamin d'])]\n",
    "better_years_user_cfs_df_treat_by_year = pd.DataFrame(better_years_user_cfs_df_treat.groupby(['year','Treatment'])['max_intensity_per_day_'].mean().reset_index())\n",
    "\n",
    "fig_dims = (25, 6)\n",
    "fig, ax = plt.subplots(figsize=fig_dims)\n",
    "sns.barplot(data = better_years_user_cfs_df_treat_by_year.reset_index(), x = 'Treatment', y = 'max_intensity_per_day_', hue='year',ax=ax)\n"
   ]
  },
  {
   "cell_type": "code",
   "execution_count": 315,
   "metadata": {},
   "outputs": [
    {
     "data": {
      "text/plain": [
       "['fatigue',\n",
       " 'headache',\n",
       " 'nausea',\n",
       " 'brain fog',\n",
       " 'abdominal pain',\n",
       " 'joint pain',\n",
       " 'back pain',\n",
       " 'anxiety',\n",
       " 'dizziness',\n",
       " 'muscle pain']"
      ]
     },
     "execution_count": 315,
     "metadata": {},
     "output_type": "execute_result"
    }
   ],
   "source": [
    "list(better_years_user_cfs_df['Symptom'].value_counts().head(10).index)"
   ]
  },
  {
   "cell_type": "code",
   "execution_count": 317,
   "metadata": {},
   "outputs": [
    {
     "data": {
      "text/plain": [
       "<AxesSubplot:xlabel='Symptom', ylabel='max_intensity_per_day_'>"
      ]
     },
     "execution_count": 317,
     "metadata": {},
     "output_type": "execute_result"
    },
    {
     "data": {
      "image/png": "[encoded data removed]",
      "text/plain": [
       "<Figure size 1800x432 with 1 Axes>"
      ]
     },
     "metadata": {
      "needs_background": "light"
     },
     "output_type": "display_data"
    }
   ],
   "source": [
    "#we see some symptoms have reduced pain intensity: anxiety, back pain and brain fog.\n",
    "symptoms_cfs = better_years_user_cfs_df[better_years_user_cfs_df['Symptom'].isin(list(better_years_user_cfs_df['Symptom'].value_counts().head(10).index))]\n",
    "symptoms_cfs_by_year = pd.DataFrame(symptoms_cfs.groupby(['year','Symptom'])['max_intensity_per_day_'].mean().reset_index())\n",
    "\n",
    "fig_dims = (25, 6)\n",
    "fig, ax = plt.subplots(figsize=fig_dims)\n",
    "sns.barplot(data = symptoms_cfs_by_year.reset_index(), x = 'Symptom', y = 'max_intensity_per_day_', hue='year',ax=ax)\n"
   ]
  },
  {
   "cell_type": "code",
   "execution_count": 323,
   "metadata": {},
   "outputs": [
    {
     "data": {
      "text/plain": [
       "(36.400953705743255, 35.0)"
      ]
     },
     "execution_count": 323,
     "metadata": {},
     "output_type": "execute_result"
    }
   ],
   "source": [
    "# mean age is 36.4\n",
    "better_years_user_cfs_df.age.mean(), better_years_user_cfs_df.age.median()"
   ]
  },
  {
   "cell_type": "code",
   "execution_count": 326,
   "metadata": {},
   "outputs": [
    {
     "data": {
      "text/plain": [
       "coffee       3117\n",
       "water        2914\n",
       "tea          1801\n",
       "chocolate    1684\n",
       "sugar        1574\n",
       "Name: Food, dtype: int64"
      ]
     },
     "execution_count": 326,
     "metadata": {},
     "output_type": "execute_result"
    }
   ],
   "source": [
    "# they need too stay hidratated and awake and need sugar, maybe because they need energy.\n",
    "better_years_user_cfs_df.Food.value_counts().head(5)"
   ]
  },
  {
   "cell_type": "code",
   "execution_count": null,
   "metadata": {},
   "outputs": [],
   "source": [
    "##"
   ]
  },
  {
   "cell_type": "code",
   "execution_count": 382,
   "metadata": {},
   "outputs": [
    {
     "data": {
      "text/plain": [
       "water        7626\n",
       "coffee       7111\n",
       "tea          4184\n",
       "chocolate    3945\n",
       "sugar        2539\n",
       "chicken      2255\n",
       "milk         2009\n",
       "pizza        1908\n",
       "banana       1858\n",
       "salad        1354\n",
       "Name: Food, dtype: int64"
      ]
     },
     "execution_count": 382,
     "metadata": {},
     "output_type": "execute_result"
    }
   ],
   "source": [
    "# Users with CFS have lower pain through the years.\n",
    "# We can check the main treatments they have through the years and find there is no pattern\n",
    "# because they continue having a similar amount except multivitamins.\n",
    "user_anx = set(df[df['top_conditions'] == 'anxiety']['user_id'].values)\n",
    "user_anx_df = df[df['user_id'].isin(user_anx)]\n",
    "user_anx_df.Food.value_counts().head(10)"
   ]
  },
  {
   "cell_type": "code",
   "execution_count": null,
   "metadata": {},
   "outputs": [],
   "source": [
    "# the people with anxiety eats more sugar, coffee, fast food."
   ]
  },
  {
   "cell_type": "code",
   "execution_count": null,
   "metadata": {},
   "outputs": [],
   "source": []
  },
  {
   "cell_type": "code",
   "execution_count": null,
   "metadata": {},
   "outputs": [],
   "source": []
  },
  {
   "cell_type": "code",
   "execution_count": null,
   "metadata": {},
   "outputs": [],
   "source": []
  },
  {
   "cell_type": "code",
   "execution_count": 244,
   "metadata": {},
   "outputs": [],
   "source": [
    "h17 = set(df[df['year'] == 2017]['user_id'].values)\n",
    "h18 = set(df[df['year'] == 2018]['user_id'].values)\n",
    "h19 = set(df[df['year'] == 2019]['user_id'].values)\n",
    "intersection1 = h17.intersection(h18)\n",
    "intersection2 = h19.intersection(intersection1)"
   ]
  },
  {
   "cell_type": "code",
   "execution_count": null,
   "metadata": {},
   "outputs": [],
   "source": []
  }
 ],
 "metadata": {
  "kernelspec": {
   "display_name": "ironhack_prroject",
   "language": "python",
   "name": "ironhack_prroject"
  },
  "language_info": {
   "codemirror_mode": {
    "name": "ipython",
    "version": 3
   },
   "file_extension": ".py",
   "mimetype": "text/x-python",
   "name": "python",
   "nbconvert_exporter": "python",
   "pygments_lexer": "ipython3",
   "version": "3.7.9"
  }
 },
 "nbformat": 4,
 "nbformat_minor": 4
}
