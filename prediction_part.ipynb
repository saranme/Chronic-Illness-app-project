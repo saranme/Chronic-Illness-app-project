{
 "cells": [
  {
   "cell_type": "code",
   "execution_count": 32,
   "metadata": {},
   "outputs": [],
   "source": [
    "import pandas as pd\n",
    "import numpy as np\n",
    "import datetime\n",
    "import warnings\n",
    "import re\n",
    "import math\n",
    "\n",
    "warnings.filterwarnings('ignore')\n",
    "warnings.filterwarnings(\"ignore\", message=\"numpy.ufunc size changed\")\n",
    "\n",
    "import matplotlib.pyplot as plt\n",
    "import seaborn as sns\n",
    "sns.set_style(\"whitegrid\")\n",
    "\n",
    "%matplotlib inline\n",
    "\n",
    "pd.set_option('display.max_columns', None)"
   ]
  },
  {
   "cell_type": "code",
   "execution_count": 141,
   "metadata": {},
   "outputs": [],
   "source": [
    "countries_df = pd.read_csv('countries.csv')\n",
    "codes = list(countries_df.Code.values)\n",
    "countries = list(countries_df.Name.values)\n",
    "update_countries = []\n",
    "[update_countries.append(country.lower()) for country in countries]\n",
    "\n",
    "codes_dataset = list(set(df_.country.values))[1:]\n",
    "\n",
    "country_dict = {}\n",
    "for i in range(len(codes_dataset)):\n",
    "    index_number = codes.index(codes_dataset[i])\n",
    "    country = update_countries[index_number]\n",
    "    country_dict[country] = codes_dataset[i]"
   ]
  },
  {
   "cell_type": "code",
   "execution_count": 148,
   "metadata": {},
   "outputs": [],
   "source": [
    "def age_conversion(age):\n",
    "    if 0 < age < 27:\n",
    "        return 'age_q1'\n",
    "    elif 27 < age < 35:\n",
    "        return 'age_q2'\n",
    "    elif 35 < age < 44:\n",
    "        return 'age_q3'\n",
    "    elif age < 0:\n",
    "        return age_convert(int(input('Write a correct age: ')))\n",
    "    elif age > 120:\n",
    "        return age_convert(int(input('Write a correct age: ')))\n",
    "    else:\n",
    "        return 'age_q4'\n",
    "\n",
    "def gender_conversion(gender):\n",
    "    gender = gender.lower()\n",
    "    if gender == 'female' or gender == 'woman' or gender == 'women':\n",
    "        return 'female'\n",
    "    elif gender == 'male' or gender == 'man' or gender =='men':\n",
    "        return 'male'\n",
    "    else:\n",
    "        return 'gender_unkown'\n",
    "\n",
    "def country_conversion(country):\n",
    "    country = country.lower()\n",
    "    if country == 'united kingdom' or country == 'great britain':\n",
    "        code = 'UK'\n",
    "    elif country in country_dict.keys():\n",
    "        code = country_dict[country]\n",
    "    else:\n",
    "        code = 'US'\n",
    "    return code\n",
    "\n",
    "def top_conditions_conversion(condition):\n",
    "    if condition.lower() not in set(df_.top_conditions.values):\n",
    "        condition = 'other_condition'\n",
    "    return condition\n",
    "\n",
    "def top_treatment_conversion(treatment):\n",
    "    if treatment.lower() not in set(df_.top_treatments.values):\n",
    "        treatment = 'other_treatment'\n",
    "    return treatment"
   ]
  },
  {
   "cell_type": "code",
   "execution_count": 150,
   "metadata": {},
   "outputs": [],
   "source": [
    "df_ = pd.read_csv('dataset_before_taking_sample.csv')"
   ]
  },
  {
   "cell_type": "code",
   "execution_count": 151,
   "metadata": {},
   "outputs": [],
   "source": [
    "top_treatment_list = [ 'acetaminophen',\n",
    " 'adderall',\n",
    " 'advil',\n",
    " 'aleve',\n",
    " 'ambien',\n",
    " 'amitriptyline',\n",
    " 'antihistamine',\n",
    " 'aspirin',\n",
    " 'benadryl',\n",
    " 'birth control',\n",
    " 'bupropion',\n",
    " 'buscopan',\n",
    " 'caffeine',\n",
    " 'cbd',\n",
    " 'cbd oil',\n",
    " 'celebrex',\n",
    " 'citalopram',\n",
    " 'claritin',\n",
    " 'clonazepam',\n",
    " 'cocodamol',\n",
    " 'codeine',\n",
    " 'coq10',\n",
    " 'cymbalta',\n",
    " 'diazepam',\n",
    " 'duloxetine',\n",
    " 'escitalopram',\n",
    " 'excedrin',\n",
    " 'exercise',\n",
    " 'fish oil',\n",
    " 'flonase',\n",
    " 'fluoxetine',\n",
    " 'folic acid',\n",
    " 'gabapentin',\n",
    " 'hydroxychloroquine',\n",
    " 'ibuprofen',\n",
    " 'iron',\n",
    " 'lamictal',\n",
    " 'lansoprazole',\n",
    " 'levothyroxine',\n",
    " 'lexapro',\n",
    " 'loratadine',\n",
    " 'low dose naltrexone',\n",
    " 'lyrica',\n",
    " 'magnesium',\n",
    " 'meditation',\n",
    " 'melatonin',\n",
    " 'meloxicam',\n",
    " 'metformin',\n",
    " 'methotrexate',\n",
    " 'mezavant',\n",
    " 'midodrine',\n",
    " 'mirtazapine',\n",
    " 'multivitamin',\n",
    " 'n-acetyl cysteine',\n",
    " 'naltrexone',\n",
    " 'naproxen',\n",
    " 'nortriptyline',\n",
    " 'omega 3',\n",
    " 'omeprazole',\n",
    " 'ondansetron',\n",
    " 'oxycodone',\n",
    " 'panadol',\n",
    " 'pantoprazole',\n",
    " 'paracetamol',\n",
    " 'physical therapy',\n",
    " 'plaquenil',\n",
    " 'prednisolone',\n",
    " 'prednisone',\n",
    " 'pregabalin',\n",
    " 'probiotic',\n",
    " 'probiotics',\n",
    " 'propranolol',\n",
    " 'prozac',\n",
    " 'ranitidine',\n",
    " 'sertraline',\n",
    " 'sleep',\n",
    " 'spironolactone',\n",
    " 'stretching',\n",
    " 'synthroid',\n",
    " 'topiramate',\n",
    " 'tramadol',\n",
    " 'trazodone',\n",
    " 'turmeric',\n",
    " 'tylenol',\n",
    " 'venlafaxine',\n",
    " 'vitamin b complex',\n",
    " 'vitamin b12',\n",
    " 'vitamin c',\n",
    " 'vitamin d',\n",
    " 'vitamin d3',\n",
    " 'walking',\n",
    " 'water',\n",
    " 'wellbutrin',\n",
    " 'xanax',\n",
    " 'yoga',\n",
    " 'zinc',\n",
    " 'zofran',\n",
    " 'zoloft',\n",
    " 'zyrtec']"
   ]
  },
  {
   "cell_type": "code",
   "execution_count": 152,
   "metadata": {},
   "outputs": [],
   "source": [
    "top_condition_list = ['allergies',\n",
    " 'anxiety',\n",
    " 'arthritis',\n",
    " 'asthma',\n",
    " \"chron's disease\",\n",
    " 'chronic fatigue syndrome',\n",
    " 'depression',\n",
    " 'ehlers-danlos syndrome',\n",
    " 'endometriosis',\n",
    " 'fatigue',\n",
    " 'fibromyalgia',\n",
    " 'headaches',\n",
    " 'ibs',\n",
    " 'insomnia',\n",
    " 'lupus',\n",
    " 'lyme disease',\n",
    " 'migraine',\n",
    " 'period',\n",
    " 'postural orthostatic tachycardia syndrome',\n",
    " 'stress']"
   ]
  },
  {
   "cell_type": "code",
   "execution_count": 153,
   "metadata": {},
   "outputs": [],
   "source": [
    "df_.sex = np.where(df_['sex'].isin(['female','male']),df_['sex'],'gender_unknown')\n",
    "df_.top_treatments = np.where(df_['top_treatments'].isin(top_treatment_list),df_['top_treatments'],'other_treatment')\n",
    "df_.top_conditions = np.where(df_['top_conditions'].isin(top_condition_list),df_['top_conditions'],'other_condition')"
   ]
  },
  {
   "cell_type": "code",
   "execution_count": 65,
   "metadata": {},
   "outputs": [],
   "source": [
    "#df_ = df_.sample(7000000)"
   ]
  },
  {
   "cell_type": "code",
   "execution_count": 66,
   "metadata": {},
   "outputs": [],
   "source": [
    "categoricals = df_[['age_cat','sex','country','top_conditions','top_treatments']]"
   ]
  },
  {
   "cell_type": "code",
   "execution_count": 67,
   "metadata": {},
   "outputs": [],
   "source": [
    "categorical_dummies1 = pd.get_dummies(categoricals['top_conditions'], drop_first=False)"
   ]
  },
  {
   "cell_type": "code",
   "execution_count": 68,
   "metadata": {},
   "outputs": [],
   "source": [
    "categorical_dummies2 = pd.get_dummies(categoricals['age_cat'])"
   ]
  },
  {
   "cell_type": "code",
   "execution_count": 69,
   "metadata": {},
   "outputs": [],
   "source": [
    "categorical_dummies3 = pd.get_dummies(categoricals['sex'])"
   ]
  },
  {
   "cell_type": "code",
   "execution_count": 70,
   "metadata": {},
   "outputs": [],
   "source": [
    "categorical_dummies4 = pd.get_dummies(categoricals['top_treatments'], drop_first=False)"
   ]
  },
  {
   "cell_type": "code",
   "execution_count": 71,
   "metadata": {},
   "outputs": [],
   "source": [
    "categorical_dummies5 = pd.get_dummies(categoricals['country'], drop_first=False)"
   ]
  },
  {
   "cell_type": "code",
   "execution_count": 72,
   "metadata": {},
   "outputs": [],
   "source": [
    "cat_dummies = pd.concat([categorical_dummies1,categorical_dummies2,categorical_dummies3,categorical_dummies4,categorical_dummies5],axis=1)"
   ]
  },
  {
   "cell_type": "code",
   "execution_count": 73,
   "metadata": {},
   "outputs": [],
   "source": [
    "from sklearn.model_selection import train_test_split\n",
    "\n",
    "y = df_['max_intensity_per_day_']\n",
    "X = cat_dummies\n",
    "\n",
    "X_train, X_test, y_train, y_test = train_test_split(X, y, test_size = 0.3, random_state= 42)"
   ]
  },
  {
   "cell_type": "code",
   "execution_count": 74,
   "metadata": {},
   "outputs": [],
   "source": [
    "# Random forest\n",
    "from sklearn.ensemble import RandomForestRegressor\n",
    "from sklearn.datasets import make_regression\n",
    "\n",
    "X, y = make_regression(n_features=4, n_informative=2, random_state=0, shuffle=False)\n",
    "regr = RandomForestRegressor(max_depth=2, random_state=0)\n",
    "regr.fit(X_train, y_train)\n",
    "predictions3 = regr.predict(X_test)"
   ]
  },
  {
   "cell_type": "code",
   "execution_count": null,
   "metadata": {},
   "outputs": [],
   "source": [
    "#### PREDICT YOUR PAIN INTENSITY"
   ]
  },
  {
   "cell_type": "code",
   "execution_count": 180,
   "metadata": {},
   "outputs": [],
   "source": [
    "import time\n",
    "import webbrowser\n",
    "from IPython.core.display import display, HTML\n",
    "\n",
    "def prediction_user():\n",
    "    display(HTML('<h1>Which is your pain level?</h1>'))\n",
    "    display(HTML('<p>It can go from 0, minimum pain, to 4, maximum pain</p>'))\n",
    "    time.sleep(1)\n",
    "    age_user = int(input('Your age: '))\n",
    "    gender_user = input('Your gender: ')\n",
    "    country_user = input('Your country: ')\n",
    "    top_condition_user = input('Your diagnosis: ')\n",
    "    top_treatment_user = input('Your treatment: ')\n",
    "\n",
    "    user_info = [age_conversion(age_user),gender_conversion(gender_user), country_conversion(country_user),top_conditions_conversion(top_condition_user),top_treatment_conversion(top_treatment_user)]\n",
    "\n",
    "    user_dict = {}\n",
    "    for column in cat_dummies.columns:\n",
    "        user_dict[column] = []\n",
    "\n",
    "    for column in cat_dummies.columns:\n",
    "        if column in user_info:\n",
    "            user_dict[column] = 1\n",
    "        else:\n",
    "            user_dict[column] = 0\n",
    "\n",
    "    user_df = pd.DataFrame.from_dict(user_dict, orient='index').T\n",
    "    \n",
    "    print('')\n",
    "    print('Your pain intensity prediction is:')\n",
    "    return round(float(regr.predict(user_df)),4)"
   ]
  },
  {
   "cell_type": "code",
   "execution_count": 183,
   "metadata": {},
   "outputs": [
    {
     "data": {
      "text/plain": [
       "{'allergies',\n",
       " 'anxiety',\n",
       " 'arthritis',\n",
       " 'asthma',\n",
       " \"chron's disease\",\n",
       " 'chronic fatigue syndrome',\n",
       " 'depression',\n",
       " 'ehlers-danlos syndrome',\n",
       " 'endometriosis',\n",
       " 'fatigue',\n",
       " 'fibromyalgia',\n",
       " 'headaches',\n",
       " 'ibs',\n",
       " 'insomnia',\n",
       " 'lupus',\n",
       " 'lyme disease',\n",
       " 'migraine',\n",
       " 'other_condition',\n",
       " 'period',\n",
       " 'postural orthostatic tachycardia syndrome',\n",
       " 'stress'}"
      ]
     },
     "execution_count": 183,
     "metadata": {},
     "output_type": "execute_result"
    }
   ],
   "source": [
    "set(df_.top_conditions.values)"
   ]
  },
  {
   "cell_type": "code",
   "execution_count": 184,
   "metadata": {},
   "outputs": [
    {
     "data": {
      "text/plain": [
       "{'acetaminophen',\n",
       " 'adderall',\n",
       " 'advil',\n",
       " 'aleve',\n",
       " 'ambien',\n",
       " 'amitriptyline',\n",
       " 'antihistamine',\n",
       " 'aspirin',\n",
       " 'benadryl',\n",
       " 'birth control',\n",
       " 'bupropion',\n",
       " 'buscopan',\n",
       " 'caffeine',\n",
       " 'cbd',\n",
       " 'cbd oil',\n",
       " 'celebrex',\n",
       " 'citalopram',\n",
       " 'claritin',\n",
       " 'clonazepam',\n",
       " 'cocodamol',\n",
       " 'codeine',\n",
       " 'coq10',\n",
       " 'cymbalta',\n",
       " 'diazepam',\n",
       " 'duloxetine',\n",
       " 'escitalopram',\n",
       " 'excedrin',\n",
       " 'exercise',\n",
       " 'fish oil',\n",
       " 'flonase',\n",
       " 'fluoxetine',\n",
       " 'folic acid',\n",
       " 'gabapentin',\n",
       " 'hydroxychloroquine',\n",
       " 'ibuprofen',\n",
       " 'iron',\n",
       " 'lamictal',\n",
       " 'lansoprazole',\n",
       " 'levothyroxine',\n",
       " 'lexapro',\n",
       " 'loratadine',\n",
       " 'low dose naltrexone',\n",
       " 'lyrica',\n",
       " 'magnesium',\n",
       " 'meditation',\n",
       " 'melatonin',\n",
       " 'meloxicam',\n",
       " 'metformin',\n",
       " 'methotrexate',\n",
       " 'mezavant',\n",
       " 'midodrine',\n",
       " 'mirtazapine',\n",
       " 'multivitamin',\n",
       " 'n-acetyl cysteine',\n",
       " 'naltrexone',\n",
       " 'naproxen',\n",
       " 'nortriptyline',\n",
       " 'omega 3',\n",
       " 'omeprazole',\n",
       " 'ondansetron',\n",
       " 'other_treatment',\n",
       " 'oxycodone',\n",
       " 'panadol',\n",
       " 'pantoprazole',\n",
       " 'paracetamol',\n",
       " 'physical therapy',\n",
       " 'plaquenil',\n",
       " 'prednisolone',\n",
       " 'prednisone',\n",
       " 'pregabalin',\n",
       " 'probiotic',\n",
       " 'probiotics',\n",
       " 'propranolol',\n",
       " 'prozac',\n",
       " 'ranitidine',\n",
       " 'sertraline',\n",
       " 'sleep',\n",
       " 'spironolactone',\n",
       " 'stretching',\n",
       " 'synthroid',\n",
       " 'topiramate',\n",
       " 'tramadol',\n",
       " 'trazodone',\n",
       " 'turmeric',\n",
       " 'tylenol',\n",
       " 'venlafaxine',\n",
       " 'vitamin b complex',\n",
       " 'vitamin b12',\n",
       " 'vitamin c',\n",
       " 'vitamin d',\n",
       " 'vitamin d3',\n",
       " 'walking',\n",
       " 'water',\n",
       " 'wellbutrin',\n",
       " 'xanax',\n",
       " 'yoga',\n",
       " 'zinc',\n",
       " 'zofran',\n",
       " 'zoloft',\n",
       " 'zyrtec'}"
      ]
     },
     "execution_count": 184,
     "metadata": {},
     "output_type": "execute_result"
    }
   ],
   "source": [
    "set(df_.top_treatments.values)"
   ]
  },
  {
   "cell_type": "code",
   "execution_count": 186,
   "metadata": {},
   "outputs": [
    {
     "data": {
      "text/html": [
       "<h1>Which is your pain level?</h1>"
      ],
      "text/plain": [
       "<IPython.core.display.HTML object>"
      ]
     },
     "metadata": {},
     "output_type": "display_data"
    },
    {
     "data": {
      "text/html": [
       "<p>It can go from 0, minimum pain, to 4, maximum pain</p>"
      ],
      "text/plain": [
       "<IPython.core.display.HTML object>"
      ]
     },
     "metadata": {},
     "output_type": "display_data"
    },
    {
     "name": "stdout",
     "output_type": "stream",
     "text": [
      "Your age: 75\n",
      "Your gender: male\n",
      "Your country: australia\n",
      "Your diagnosis: chron's disease\n",
      "Your treatment: acetaminophen\n",
      "\n",
      "Your pain intensity prediction is:\n"
     ]
    },
    {
     "data": {
      "text/plain": [
       "2.7159"
      ]
     },
     "execution_count": 186,
     "metadata": {},
     "output_type": "execute_result"
    }
   ],
   "source": [
    "prediction_user()"
   ]
  },
  {
   "cell_type": "code",
   "execution_count": 187,
   "metadata": {},
   "outputs": [
    {
     "data": {
      "text/html": [
       "<h1>Which is your pain level?</h1>"
      ],
      "text/plain": [
       "<IPython.core.display.HTML object>"
      ]
     },
     "metadata": {},
     "output_type": "display_data"
    },
    {
     "data": {
      "text/html": [
       "<p>It can go from 0, minimum pain, to 4, maximum pain</p>"
      ],
      "text/plain": [
       "<IPython.core.display.HTML object>"
      ]
     },
     "metadata": {},
     "output_type": "display_data"
    },
    {
     "name": "stdout",
     "output_type": "stream",
     "text": [
      "Your age: 23\n",
      "Your gender: female\n",
      "Your country: united states\n",
      "Your diagnosis: stress\n",
      "Your treatment: exercise\n",
      "\n",
      "Your pain intensity prediction is:\n"
     ]
    },
    {
     "data": {
      "text/plain": [
       "2.9391"
      ]
     },
     "execution_count": 187,
     "metadata": {},
     "output_type": "execute_result"
    }
   ],
   "source": [
    "prediction_user()"
   ]
  },
  {
   "cell_type": "code",
   "execution_count": 192,
   "metadata": {},
   "outputs": [
    {
     "data": {
      "text/html": [
       "<h1>Which is your pain level?</h1>"
      ],
      "text/plain": [
       "<IPython.core.display.HTML object>"
      ]
     },
     "metadata": {},
     "output_type": "display_data"
    },
    {
     "data": {
      "text/html": [
       "<p>It can go from 0, minimum pain, to 4, maximum pain</p>"
      ],
      "text/plain": [
       "<IPython.core.display.HTML object>"
      ]
     },
     "metadata": {},
     "output_type": "display_data"
    },
    {
     "name": "stdout",
     "output_type": "stream",
     "text": [
      "Your age: 33\n",
      "Your gender: female\n",
      "Your country: united states\n",
      "Your diagnosis: stress\n",
      "Your treatment: meditation\n",
      "\n",
      "Your pain intensity prediction is:\n"
     ]
    },
    {
     "data": {
      "text/plain": [
       "2.9346"
      ]
     },
     "execution_count": 192,
     "metadata": {},
     "output_type": "execute_result"
    }
   ],
   "source": [
    "prediction_user()"
   ]
  },
  {
   "cell_type": "code",
   "execution_count": 193,
   "metadata": {},
   "outputs": [
    {
     "data": {
      "text/html": [
       "<h1>Which is your pain level?</h1>"
      ],
      "text/plain": [
       "<IPython.core.display.HTML object>"
      ]
     },
     "metadata": {},
     "output_type": "display_data"
    },
    {
     "data": {
      "text/html": [
       "<p>It can go from 0, minimum pain, to 4, maximum pain</p>"
      ],
      "text/plain": [
       "<IPython.core.display.HTML object>"
      ]
     },
     "metadata": {},
     "output_type": "display_data"
    },
    {
     "name": "stdout",
     "output_type": "stream",
     "text": [
      "Your age: 33\n",
      "Your gender: female\n",
      "Your country: united states\n",
      "Your diagnosis: stress\n",
      "Your treatment: yoga\n",
      "\n",
      "Your pain intensity prediction is:\n"
     ]
    },
    {
     "data": {
      "text/plain": [
       "2.9346"
      ]
     },
     "execution_count": 193,
     "metadata": {},
     "output_type": "execute_result"
    }
   ],
   "source": [
    "prediction_user()"
   ]
  },
  {
   "cell_type": "code",
   "execution_count": 194,
   "metadata": {},
   "outputs": [
    {
     "data": {
      "text/html": [
       "<h1>Which is your pain level?</h1>"
      ],
      "text/plain": [
       "<IPython.core.display.HTML object>"
      ]
     },
     "metadata": {},
     "output_type": "display_data"
    },
    {
     "data": {
      "text/html": [
       "<p>It can go from 0, minimum pain, to 4, maximum pain</p>"
      ],
      "text/plain": [
       "<IPython.core.display.HTML object>"
      ]
     },
     "metadata": {},
     "output_type": "display_data"
    },
    {
     "name": "stdout",
     "output_type": "stream",
     "text": [
      "Your age: 22\n",
      "Your gender: male\n",
      "Your country: united kingdom\n",
      "Your diagnosis: depression\n",
      "Your treatment: amitriptyline\n",
      "\n",
      "Your pain intensity prediction is:\n"
     ]
    },
    {
     "data": {
      "text/plain": [
       "2.7159"
      ]
     },
     "execution_count": 194,
     "metadata": {},
     "output_type": "execute_result"
    }
   ],
   "source": [
    "prediction_user()"
   ]
  },
  {
   "cell_type": "code",
   "execution_count": 197,
   "metadata": {},
   "outputs": [
    {
     "data": {
      "text/html": [
       "<h1>Which is your pain level?</h1>"
      ],
      "text/plain": [
       "<IPython.core.display.HTML object>"
      ]
     },
     "metadata": {},
     "output_type": "display_data"
    },
    {
     "data": {
      "text/html": [
       "<p>It can go from 0, minimum pain, to 4, maximum pain</p>"
      ],
      "text/plain": [
       "<IPython.core.display.HTML object>"
      ]
     },
     "metadata": {},
     "output_type": "display_data"
    },
    {
     "name": "stdout",
     "output_type": "stream",
     "text": [
      "Your age: 30\n",
      "Your gender: female\n",
      "Your country: united states\n",
      "Your diagnosis: chronic fatigue syndrome\n",
      "Your treatment: omega 3\n",
      "\n",
      "Your pain intensity prediction is:\n"
     ]
    },
    {
     "data": {
      "text/plain": [
       "2.9346"
      ]
     },
     "execution_count": 197,
     "metadata": {},
     "output_type": "execute_result"
    }
   ],
   "source": [
    "prediction_user()"
   ]
  },
  {
   "cell_type": "code",
   "execution_count": null,
   "metadata": {},
   "outputs": [],
   "source": []
  },
  {
   "cell_type": "code",
   "execution_count": null,
   "metadata": {},
   "outputs": [],
   "source": []
  },
  {
   "cell_type": "code",
   "execution_count": null,
   "metadata": {},
   "outputs": [],
   "source": []
  },
  {
   "cell_type": "code",
   "execution_count": null,
   "metadata": {},
   "outputs": [],
   "source": []
  },
  {
   "cell_type": "code",
   "execution_count": null,
   "metadata": {},
   "outputs": [],
   "source": []
  },
  {
   "cell_type": "code",
   "execution_count": null,
   "metadata": {},
   "outputs": [],
   "source": []
  },
  {
   "cell_type": "code",
   "execution_count": null,
   "metadata": {},
   "outputs": [],
   "source": []
  },
  {
   "cell_type": "code",
   "execution_count": null,
   "metadata": {},
   "outputs": [],
   "source": []
  },
  {
   "cell_type": "code",
   "execution_count": null,
   "metadata": {},
   "outputs": [],
   "source": []
  },
  {
   "cell_type": "code",
   "execution_count": null,
   "metadata": {},
   "outputs": [],
   "source": []
  },
  {
   "cell_type": "code",
   "execution_count": null,
   "metadata": {},
   "outputs": [],
   "source": []
  },
  {
   "cell_type": "code",
   "execution_count": null,
   "metadata": {},
   "outputs": [],
   "source": []
  },
  {
   "cell_type": "code",
   "execution_count": null,
   "metadata": {},
   "outputs": [],
   "source": []
  },
  {
   "cell_type": "code",
   "execution_count": null,
   "metadata": {},
   "outputs": [],
   "source": []
  },
  {
   "cell_type": "code",
   "execution_count": 198,
   "metadata": {},
   "outputs": [
    {
     "data": {
      "text/html": [
       "<h1>Which is your pain level?</h1>"
      ],
      "text/plain": [
       "<IPython.core.display.HTML object>"
      ]
     },
     "metadata": {},
     "output_type": "display_data"
    },
    {
     "data": {
      "text/html": [
       "<p>It can go from 0, minimum pain, to 4, maximum pain</p>"
      ],
      "text/plain": [
       "<IPython.core.display.HTML object>"
      ]
     },
     "metadata": {},
     "output_type": "display_data"
    },
    {
     "name": "stdout",
     "output_type": "stream",
     "text": [
      "Your age: 30\n",
      "Your gender: female\n",
      "Your country: united states\n",
      "Your diagnosis: chronic fatigue syndrome\n",
      "Your treatment: omega 3\n",
      "\n",
      "Your pain intensity prediction is:\n"
     ]
    },
    {
     "data": {
      "text/plain": [
       "2.9346"
      ]
     },
     "execution_count": 198,
     "metadata": {},
     "output_type": "execute_result"
    }
   ],
   "source": [
    "prediction_user()"
   ]
  },
  {
   "cell_type": "code",
   "execution_count": 199,
   "metadata": {},
   "outputs": [
    {
     "data": {
      "text/html": [
       "<h1>Which is your pain level?</h1>"
      ],
      "text/plain": [
       "<IPython.core.display.HTML object>"
      ]
     },
     "metadata": {},
     "output_type": "display_data"
    },
    {
     "data": {
      "text/html": [
       "<p>It can go from 0, minimum pain, to 4, maximum pain</p>"
      ],
      "text/plain": [
       "<IPython.core.display.HTML object>"
      ]
     },
     "metadata": {},
     "output_type": "display_data"
    },
    {
     "name": "stdout",
     "output_type": "stream",
     "text": [
      "Your age: 22\n",
      "Your gender: male\n",
      "Your country: united kingdom\n",
      "Your diagnosis: depression\n",
      "Your treatment: amitriptyline\n",
      "\n",
      "Your pain intensity prediction is:\n"
     ]
    },
    {
     "data": {
      "text/plain": [
       "2.7159"
      ]
     },
     "execution_count": 199,
     "metadata": {},
     "output_type": "execute_result"
    }
   ],
   "source": [
    "prediction_user()"
   ]
  },
  {
   "cell_type": "code",
   "execution_count": null,
   "metadata": {},
   "outputs": [],
   "source": []
  },
  {
   "cell_type": "code",
   "execution_count": null,
   "metadata": {},
   "outputs": [],
   "source": []
  }
 ],
 "metadata": {
  "kernelspec": {
   "display_name": "Python 3",
   "language": "python",
   "name": "python3"
  },
  "language_info": {
   "codemirror_mode": {
    "name": "ipython",
    "version": 3
   },
   "file_extension": ".py",
   "mimetype": "text/x-python",
   "name": "python",
   "nbconvert_exporter": "python",
   "pygments_lexer": "ipython3",
   "version": "3.7.9"
  }
 },
 "nbformat": 4,
 "nbformat_minor": 4
}
